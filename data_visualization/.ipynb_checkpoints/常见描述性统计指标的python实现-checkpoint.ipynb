{
 "cells": [
  {
   "cell_type": "code",
   "execution_count": 1,
   "id": "b6ebebee-d8d2-4ff5-a6d3-54791d7056eb",
   "metadata": {},
   "outputs": [],
   "source": [
    "import pandas as pd\n",
    "import numpy as np\n",
    "from scipy import stats"
   ]
  },
  {
   "cell_type": "code",
   "execution_count": 2,
   "id": "39293fa9-3775-4317-8a99-4363c0d6b9d5",
   "metadata": {},
   "outputs": [],
   "source": [
    "data1 = [1,2,3]"
   ]
  },
  {
   "cell_type": "code",
   "execution_count": 3,
   "id": "e0452ab5-3e8f-4c86-954b-bd81e2386ec6",
   "metadata": {},
   "outputs": [
    {
     "data": {
      "text/plain": [
       "[1, 2, 3]"
      ]
     },
     "execution_count": 3,
     "metadata": {},
     "output_type": "execute_result"
    }
   ],
   "source": [
    "data1"
   ]
  },
  {
   "cell_type": "code",
   "execution_count": 4,
   "id": "893fb0b1-9899-400f-b1b4-56b1f615c290",
   "metadata": {},
   "outputs": [],
   "source": [
    "data2 = np.array([1,2,3])"
   ]
  },
  {
   "cell_type": "code",
   "execution_count": 5,
   "id": "05b1394a-5c60-4f44-97d0-44d6464b6cd1",
   "metadata": {},
   "outputs": [
    {
     "data": {
      "text/plain": [
       "array([1, 2, 3])"
      ]
     },
     "execution_count": 5,
     "metadata": {},
     "output_type": "execute_result"
    }
   ],
   "source": [
    "data2"
   ]
  },
  {
   "cell_type": "code",
   "execution_count": 6,
   "id": "e34d607f-c839-41c5-be7d-ee32de2f31a0",
   "metadata": {},
   "outputs": [],
   "source": [
    "data3 = pd.Series([1,2,3])"
   ]
  },
  {
   "cell_type": "code",
   "execution_count": 7,
   "id": "3c1587f3-1d4e-4ab9-8552-19a075e0f9d5",
   "metadata": {},
   "outputs": [
    {
     "data": {
      "text/plain": [
       "0    1\n",
       "1    2\n",
       "2    3\n",
       "dtype: int64"
      ]
     },
     "execution_count": 7,
     "metadata": {},
     "output_type": "execute_result"
    }
   ],
   "source": [
    "data3"
   ]
  },
  {
   "cell_type": "code",
   "execution_count": 8,
   "id": "110dd4f1-dde3-4c96-ad5d-6885f986654f",
   "metadata": {},
   "outputs": [],
   "source": [
    "# 创建一组服从正态分布的数值型数据\n",
    "data4 = np.random.normal(0,10,size=10)"
   ]
  },
  {
   "cell_type": "code",
   "execution_count": 9,
   "id": "a140343f-07de-4faa-8712-f0ea9e98a1ce",
   "metadata": {},
   "outputs": [
    {
     "data": {
      "text/plain": [
       "array([-12.40560225,  -8.70345216,  -4.97941255,  -1.94967252,\n",
       "         7.28696093,  -7.06381858,  -2.51574862,   5.10898802,\n",
       "        13.24926772,  -8.8636106 ])"
      ]
     },
     "execution_count": 9,
     "metadata": {},
     "output_type": "execute_result"
    }
   ],
   "source": [
    "data4"
   ]
  },
  {
   "cell_type": "code",
   "execution_count": 10,
   "id": "9b0cfd61-6963-48e7-b7b6-3eeefbfd40a1",
   "metadata": {},
   "outputs": [],
   "source": [
    "# 创建一组服从均匀分布的分类数据(用户数字代表类别)\n",
    "data5 = np.random.randint(0,10,size=10)"
   ]
  },
  {
   "cell_type": "code",
   "execution_count": 11,
   "id": "fe0f0d9c-c443-4d9a-b090-229bd1422884",
   "metadata": {},
   "outputs": [
    {
     "data": {
      "text/plain": [
       "array([1, 9, 8, 0, 6, 6, 9, 6, 2, 9])"
      ]
     },
     "execution_count": 11,
     "metadata": {},
     "output_type": "execute_result"
    }
   ],
   "source": [
    "data5"
   ]
  },
  {
   "cell_type": "markdown",
   "id": "d9a6cacd-b658-474e-8579-93ff3f7cdcb9",
   "metadata": {},
   "source": [
    "## 集中趋势"
   ]
  },
  {
   "cell_type": "markdown",
   "id": "e82a2039-99f0-4524-8bae-d7b6f50a4d22",
   "metadata": {},
   "source": [
    "#### 均值\n",
    "$$\\mu=\\frac{\\displaystyle\\sum\\limits_{i=1}^N{X_i}}{N}$$"
   ]
  },
  {
   "cell_type": "code",
   "execution_count": 12,
   "id": "1b7015f5-e189-4ad6-99f8-1263c838fff7",
   "metadata": {},
   "outputs": [],
   "source": [
    "def do_mean(nums):\n",
    "    return sum(nums) / len(nums)"
   ]
  },
  {
   "cell_type": "code",
   "execution_count": 13,
   "id": "937c358b-9383-48ff-96d0-34e71edf0626",
   "metadata": {},
   "outputs": [
    {
     "data": {
      "text/plain": [
       "2.0"
      ]
     },
     "execution_count": 13,
     "metadata": {},
     "output_type": "execute_result"
    }
   ],
   "source": [
    "do_mean(data1)"
   ]
  },
  {
   "cell_type": "code",
   "execution_count": 14,
   "id": "7b345e1d-d4c2-4e50-8c7c-f392a5fa3731",
   "metadata": {},
   "outputs": [
    {
     "data": {
      "text/plain": [
       "2.0"
      ]
     },
     "execution_count": 14,
     "metadata": {},
     "output_type": "execute_result"
    }
   ],
   "source": [
    "np.mean(data1)"
   ]
  },
  {
   "cell_type": "markdown",
   "id": "59c2ca70-6ba6-4a07-b500-4c741d731618",
   "metadata": {},
   "source": [
    "#### 中位数"
   ]
  },
  {
   "cell_type": "code",
   "execution_count": 15,
   "id": "442dbe5c-e619-4651-80dd-4f8c77c267ba",
   "metadata": {},
   "outputs": [],
   "source": [
    "def do_median(nums):\n",
    "    length = len(nums)\n",
    "    sorted_nums = sorted(nums)\n",
    "    \n",
    "    if length %2 :\n",
    "        return sorted_nums[length//2]\n",
    "    else:\n",
    "        return (sorted_nums[length//2 -1] +sorted_nums[length//2]) /2"
   ]
  },
  {
   "cell_type": "code",
   "execution_count": 16,
   "id": "9463d9c7-32ba-4fb7-800a-4649ad59b41a",
   "metadata": {},
   "outputs": [
    {
     "data": {
      "text/plain": [
       "6.0"
      ]
     },
     "execution_count": 16,
     "metadata": {},
     "output_type": "execute_result"
    }
   ],
   "source": [
    "do_median(data5)"
   ]
  },
  {
   "cell_type": "code",
   "execution_count": 17,
   "id": "219b6285-cbce-467e-b1e4-5dd4e9c1863f",
   "metadata": {},
   "outputs": [
    {
     "data": {
      "text/plain": [
       "6.0"
      ]
     },
     "execution_count": 17,
     "metadata": {},
     "output_type": "execute_result"
    }
   ],
   "source": [
    "np.median(data5)"
   ]
  },
  {
   "cell_type": "markdown",
   "id": "5ca457bf-fac7-4a56-bf23-f94e04cf959f",
   "metadata": {},
   "source": [
    "#### 众数"
   ]
  },
  {
   "cell_type": "code",
   "execution_count": 18,
   "id": "477c4885-6fc8-4455-9698-11135d9bbb55",
   "metadata": {},
   "outputs": [
    {
     "data": {
      "text/plain": [
       "array([1, 9, 8, 0, 6, 6, 9, 6, 2, 9])"
      ]
     },
     "execution_count": 18,
     "metadata": {},
     "output_type": "execute_result"
    }
   ],
   "source": [
    "data5"
   ]
  },
  {
   "cell_type": "code",
   "execution_count": 19,
   "id": "225903a1-0f28-44cd-b1b4-cb1ad11dd95c",
   "metadata": {},
   "outputs": [
    {
     "data": {
      "text/plain": [
       "array([1, 1, 1, 0, 0, 0, 3, 0, 1, 3], dtype=int64)"
      ]
     },
     "execution_count": 19,
     "metadata": {},
     "output_type": "execute_result"
    }
   ],
   "source": [
    "np.bincount(data5)"
   ]
  },
  {
   "cell_type": "code",
   "execution_count": 20,
   "id": "547b49e4-686e-4907-b46f-3da302b3585a",
   "metadata": {},
   "outputs": [],
   "source": [
    "# # 我们可以看到x中最大的数为7，因此bin的数量为8，那么它的索引值为0->7\n",
    "# x = np.array([0, 1, 1, 3, 2, 1, 7]) \n",
    "\n",
    "# # 索引0出现了1次，索引1出现了3次......索引5出现了0次......\n",
    "# np.bincount(x)\n",
    "# #因此，输出结果为：array([1, 3, 1, 1, 0, 0, 0, 1])\n",
    "\n",
    "\n",
    "# # 我们可以看到x中最大的数为7，因此bin的数量为8，那么它的索引值为0->7\n",
    "# x = np.array([7, 6, 2, 1, 4])\n",
    "\n",
    "# # 索引0出现了0次，索引1出现了1次......索引5出现了0次......\n",
    "# np.bincount(x)\n",
    "# #输出结果为：array([0, 1, 1, 0, 1, 0, 1, 1])"
   ]
  },
  {
   "cell_type": "code",
   "execution_count": 21,
   "id": "30cec684-41ee-433c-a37c-cc8cfeb9e8ec",
   "metadata": {},
   "outputs": [
    {
     "name": "stdout",
     "output_type": "stream",
     "text": [
      "6\n"
     ]
    }
   ],
   "source": [
    "# 先获取每个索引位置值在原始数据中出现的位置\n",
    "counts = np.bincount(data5)\n",
    "\n",
    "# 返回频次最大值在数列中的索引位置\n",
    "mode_val = np.argmax(counts)\n",
    "\n",
    "# 返回众数\n",
    "print(mode_val)"
   ]
  },
  {
   "cell_type": "code",
   "execution_count": 22,
   "id": "eaa7f7f3-bee4-4e8d-93de-63c146f6dcb4",
   "metadata": {},
   "outputs": [
    {
     "data": {
      "text/plain": [
       "ModeResult(mode=array([6]), count=array([3]))"
      ]
     },
     "execution_count": 22,
     "metadata": {},
     "output_type": "execute_result"
    }
   ],
   "source": [
    "# 使用scipy实现\n",
    "stats.mode(data5)"
   ]
  },
  {
   "cell_type": "code",
   "execution_count": 23,
   "id": "a7b388fd-8b0b-47b3-9ea1-a8d0775582d6",
   "metadata": {},
   "outputs": [
    {
     "data": {
      "text/plain": [
       "6"
      ]
     },
     "execution_count": 23,
     "metadata": {},
     "output_type": "execute_result"
    }
   ],
   "source": [
    "stats.mode(data5)[0][0]"
   ]
  },
  {
   "cell_type": "markdown",
   "id": "d1e77a20-89e0-4e1c-a020-240aaf9472b9",
   "metadata": {},
   "source": [
    "### 离散程度"
   ]
  },
  {
   "cell_type": "markdown",
   "id": "a8ff80fe-3652-47a0-a4c1-66c6aa706b20",
   "metadata": {},
   "source": [
    "#### 极差\n",
    "$$R=\\max{(X)}-\\min{(X)}$$"
   ]
  },
  {
   "cell_type": "code",
   "execution_count": 24,
   "id": "a637f42f-8091-4a49-80a7-19b0b6a1b645",
   "metadata": {},
   "outputs": [],
   "source": [
    "def do_ptp(nums):\n",
    "    return max(nums) - min(nums)"
   ]
  },
  {
   "cell_type": "code",
   "execution_count": 25,
   "id": "57b7bdd2-fb40-4e65-86d4-f34a30ce1ae0",
   "metadata": {},
   "outputs": [
    {
     "data": {
      "text/plain": [
       "25.65486996126144"
      ]
     },
     "execution_count": 25,
     "metadata": {},
     "output_type": "execute_result"
    }
   ],
   "source": [
    "do_ptp(data4)"
   ]
  },
  {
   "cell_type": "code",
   "execution_count": 26,
   "id": "d5655e34-b9fe-4890-8f6d-57ac8fbfd32e",
   "metadata": {},
   "outputs": [
    {
     "data": {
      "text/plain": [
       "25.65486996126144"
      ]
     },
     "execution_count": 26,
     "metadata": {},
     "output_type": "execute_result"
    }
   ],
   "source": [
    "np.ptp(data4)"
   ]
  },
  {
   "cell_type": "markdown",
   "id": "f2f1db04-0db0-4867-8641-0a3f8009434f",
   "metadata": {},
   "source": [
    "#### 方差\n",
    "$$\\sigma^2=\\frac{\\displaystyle\\sum\\limits_{i=1}^N (X_i-\\mu)^2}{N}$$"
   ]
  },
  {
   "cell_type": "code",
   "execution_count": 27,
   "id": "fe1799fd-1b66-4e7b-8b69-25247383033e",
   "metadata": {},
   "outputs": [],
   "source": [
    "def do_var(nums):\n",
    "    nums_mean = do_mean(nums)\n",
    "    res =0\n",
    "    for num in nums:\n",
    "        res += (num - nums_mean) ** 2\n",
    "    res = res / len(nums)\n",
    "    return res"
   ]
  },
  {
   "cell_type": "code",
   "execution_count": 28,
   "id": "bc2ec9ba-0e38-45ae-8232-becc621ae46d",
   "metadata": {},
   "outputs": [
    {
     "data": {
      "text/plain": [
       "60.43652801408882"
      ]
     },
     "execution_count": 28,
     "metadata": {},
     "output_type": "execute_result"
    }
   ],
   "source": [
    "do_var(data4)"
   ]
  },
  {
   "cell_type": "code",
   "execution_count": 29,
   "id": "8084e22e-5bee-47c5-ba6e-1fd87319aca6",
   "metadata": {},
   "outputs": [
    {
     "data": {
      "text/plain": [
       "60.43652801408882"
      ]
     },
     "execution_count": 29,
     "metadata": {},
     "output_type": "execute_result"
    }
   ],
   "source": [
    "np.var(data4)"
   ]
  },
  {
   "cell_type": "markdown",
   "id": "af0e8025-2dd3-48f2-89da-18738bfdc6a6",
   "metadata": {},
   "source": [
    "#### 标准差\n",
    "$$\\sigma =\\sqrt{\\sigma^2}$$"
   ]
  },
  {
   "cell_type": "code",
   "execution_count": 30,
   "id": "ff5a6021-ad91-4bac-9410-64ffd8b4604b",
   "metadata": {},
   "outputs": [],
   "source": [
    "def do_std(nums):\n",
    "    return do_var(nums) ** 0.5"
   ]
  },
  {
   "cell_type": "code",
   "execution_count": 31,
   "id": "57ed3a09-a0f0-43d9-ae0d-c73b64284443",
   "metadata": {},
   "outputs": [
    {
     "data": {
      "text/plain": [
       "7.774093388562349"
      ]
     },
     "execution_count": 31,
     "metadata": {},
     "output_type": "execute_result"
    }
   ],
   "source": [
    "do_std(data4)"
   ]
  },
  {
   "cell_type": "code",
   "execution_count": 32,
   "id": "5f6a3f3a-689b-4275-9999-634d136b4791",
   "metadata": {},
   "outputs": [
    {
     "data": {
      "text/plain": [
       "7.774093388562349"
      ]
     },
     "execution_count": 32,
     "metadata": {},
     "output_type": "execute_result"
    }
   ],
   "source": [
    "np.std(data4)"
   ]
  },
  {
   "cell_type": "markdown",
   "id": "da96e70e-0bb4-4bb5-968e-b4c920eed73f",
   "metadata": {},
   "source": [
    "#### 变异系数\n",
    "$$CV=\\frac{\\sigma}{\\mu}$$"
   ]
  },
  {
   "cell_type": "code",
   "execution_count": 34,
   "id": "0dab1e67-879a-4c52-b37f-fdfcc513cb81",
   "metadata": {},
   "outputs": [],
   "source": [
    "def do_cv(nums):\n",
    "    return do_std(nums) / do_mean(nums)"
   ]
  },
  {
   "cell_type": "code",
   "execution_count": 35,
   "id": "460817e1-6693-47c4-a7d4-434f7581d17f",
   "metadata": {},
   "outputs": [
    {
     "data": {
      "text/plain": [
       "-3.7310692308360403"
      ]
     },
     "execution_count": 35,
     "metadata": {},
     "output_type": "execute_result"
    }
   ],
   "source": [
    "do_cv(data4)"
   ]
  },
  {
   "cell_type": "code",
   "execution_count": 36,
   "id": "7e7f4b45-7df7-4739-bdaa-37f5e099fd56",
   "metadata": {},
   "outputs": [
    {
     "data": {
      "text/plain": [
       "-3.7310692308360407"
      ]
     },
     "execution_count": 36,
     "metadata": {},
     "output_type": "execute_result"
    }
   ],
   "source": [
    "np.std(data4) / np.mean(data4)"
   ]
  },
  {
   "cell_type": "markdown",
   "id": "983aae1d-b110-4bf8-940a-99b98a60ca8e",
   "metadata": {},
   "source": [
    "### 偏差程度"
   ]
  },
  {
   "cell_type": "markdown",
   "id": "fea439c9-9f2c-4de5-aa5c-287ab716f9b8",
   "metadata": {},
   "source": [
    "#### Z-分数\n",
    "$$Z_i=\\frac{X_i-\\mu}{\\sigma}$$"
   ]
  },
  {
   "cell_type": "code",
   "execution_count": 37,
   "id": "61fcfef6-df8a-451b-be00-d55ea8aca6bc",
   "metadata": {},
   "outputs": [
    {
     "data": {
      "text/plain": [
       "-1.3277422418733251"
      ]
     },
     "execution_count": 37,
     "metadata": {},
     "output_type": "execute_result"
    }
   ],
   "source": [
    "# data4数据中第一个值的Z-分数\n",
    "(data4[0] -np.mean(data4)) / np.std(data4) "
   ]
  },
  {
   "cell_type": "code",
   "execution_count": 38,
   "id": "bfc09bf3-deee-480f-83a1-5a2486400ca6",
   "metadata": {},
   "outputs": [
    {
     "data": {
      "text/plain": [
       "array([-1.32774224, -0.85152593, -0.37249392,  0.0172287 ,  1.20535869,\n",
       "       -0.64061599, -0.055587  ,  0.92520089,  1.97230429, -0.87212749])"
      ]
     },
     "execution_count": 38,
     "metadata": {},
     "output_type": "execute_result"
    }
   ],
   "source": [
    "(data4 -np.mean(data4)) / np.std(data4) "
   ]
  },
  {
   "cell_type": "code",
   "execution_count": 39,
   "id": "d079bf9b-fe9a-410d-bf97-72389ec959ff",
   "metadata": {},
   "outputs": [
    {
     "data": {
      "text/plain": [
       "0   -1.224745\n",
       "1    0.000000\n",
       "2    1.224745\n",
       "dtype: float64"
      ]
     },
     "execution_count": 39,
     "metadata": {},
     "output_type": "execute_result"
    }
   ],
   "source": [
    "(data3-np.mean(data3)) / np.std(data3)"
   ]
  },
  {
   "cell_type": "markdown",
   "id": "652fef32-2a30-40c8-9b99-81c59faa5e89",
   "metadata": {},
   "source": [
    "### 相关程度"
   ]
  },
  {
   "cell_type": "markdown",
   "id": "5d4b8efb-682a-4a1a-8a59-feed24d0e55e",
   "metadata": {},
   "source": [
    "#### 协方差\n",
    "$$Cov(X,Y)=\\frac{\\displaystyle\\sum\\limits_{i=1}^N (X_i-\\bar{X})(Y_i-\\bar{Y})}{N}$$"
   ]
  },
  {
   "cell_type": "code",
   "execution_count": 40,
   "id": "413bbcd5-2ad4-4fe0-b05c-7c12a3eeea61",
   "metadata": {},
   "outputs": [],
   "source": [
    "data_new = np.array([data4,data5])"
   ]
  },
  {
   "cell_type": "code",
   "execution_count": 41,
   "id": "140c3246-bf77-4fcd-b678-292d94c0e3eb",
   "metadata": {},
   "outputs": [
    {
     "data": {
      "text/plain": [
       "array([[-12.40560225,  -8.70345216,  -4.97941255,  -1.94967252,\n",
       "          7.28696093,  -7.06381858,  -2.51574862,   5.10898802,\n",
       "         13.24926772,  -8.8636106 ],\n",
       "       [  1.        ,   9.        ,   8.        ,   0.        ,\n",
       "          6.        ,   6.        ,   9.        ,   6.        ,\n",
       "          2.        ,   9.        ]])"
      ]
     },
     "execution_count": 41,
     "metadata": {},
     "output_type": "execute_result"
    }
   ],
   "source": [
    "data_new"
   ]
  },
  {
   "cell_type": "code",
   "execution_count": 42,
   "id": "a5bb44fe-16fc-4e23-aca3-ad18beb67d00",
   "metadata": {},
   "outputs": [],
   "source": [
    "def do_cov(num_matrix):\n",
    "    length = len(num_matrix)\n",
    "    \n",
    "    res = [[0 for _ in range(length)] for _ in range(length)]\n",
    "    for m in range(length):\n",
    "        for n in range(length):\n",
    "            res[m][n] = sum([(x- do_mean(num_matrix[m]))*(y -do_mean(num_matrix[n])) for x,y in zip(num_matrix[m],num_matrix[n])]) / len(num_matrix[m])\n",
    "            \n",
    "    return np.array(res)"
   ]
  },
  {
   "cell_type": "code",
   "execution_count": 43,
   "id": "8189c523-1357-4390-90d5-fc1d520c8380",
   "metadata": {},
   "outputs": [
    {
     "data": {
      "text/plain": [
       "array([[60.43652801, -5.7812724 ],\n",
       "       [-5.7812724 , 10.64      ]])"
      ]
     },
     "execution_count": 43,
     "metadata": {},
     "output_type": "execute_result"
    }
   ],
   "source": [
    "do_cov(data_new)"
   ]
  },
  {
   "cell_type": "code",
   "execution_count": 44,
   "id": "a24c20f9-6f89-429c-80dd-cc2657f6bed2",
   "metadata": {},
   "outputs": [
    {
     "data": {
      "text/plain": [
       "array([[60.43652801, -5.7812724 ],\n",
       "       [-5.7812724 , 10.64      ]])"
      ]
     },
     "execution_count": 44,
     "metadata": {},
     "output_type": "execute_result"
    }
   ],
   "source": [
    "# 计算data4与data5两组数据(变量)间的协方差\n",
    "# 参数bias=1表示结果需要除以N（默认是除以N-1）\n",
    "# 返回结果为矩阵，第i行第j列的数据表示第i组数与第j组数的协方差，对角线为方差\n",
    "np.cov(data_new,bias=1)"
   ]
  },
  {
   "cell_type": "markdown",
   "id": "c67a0443-b6af-4d5d-96b9-73dcace47804",
   "metadata": {},
   "source": [
    "#### 相关系数\n",
    "$$r(X,Y)=\\frac{Cov(X,Y)}{\\sigma_X\\sigma_Y}$$"
   ]
  },
  {
   "cell_type": "code",
   "execution_count": 46,
   "id": "544c14eb-1bc3-4940-abe2-0e1df6fc42e1",
   "metadata": {},
   "outputs": [],
   "source": [
    "def do_corr(num_matrix):\n",
    "    length = len(num_matrix)\n",
    "    res = do_cov(num_matrix)\n",
    "    for m in range(length):\n",
    "        for n in range(length):\n",
    "            res[m][n] = res[m][n]  / (do_std(num_matrix[m] * do_std(num_matrix[n])))\n",
    "    return res"
   ]
  },
  {
   "cell_type": "code",
   "execution_count": 47,
   "id": "5e8040d5-0d0a-444c-bdb5-9004e657a44f",
   "metadata": {},
   "outputs": [
    {
     "data": {
      "text/plain": [
       "array([[ 1.        , -0.22798321],\n",
       "       [-0.22798321,  1.        ]])"
      ]
     },
     "execution_count": 47,
     "metadata": {},
     "output_type": "execute_result"
    }
   ],
   "source": [
    "do_corr(data_new)"
   ]
  },
  {
   "cell_type": "code",
   "execution_count": 48,
   "id": "9a14c716-4e3b-4c89-95eb-af8c13c7cf2b",
   "metadata": {},
   "outputs": [
    {
     "data": {
      "text/plain": [
       "array([[ 1.        , -0.22798321],\n",
       "       [-0.22798321,  1.        ]])"
      ]
     },
     "execution_count": 48,
     "metadata": {},
     "output_type": "execute_result"
    }
   ],
   "source": [
    "np.corrcoef(data_new)"
   ]
  }
 ],
 "metadata": {
  "kernelspec": {
   "display_name": "py3.6.5_tf2",
   "language": "python",
   "name": "py3.6.5_tf2"
  },
  "language_info": {
   "codemirror_mode": {
    "name": "ipython",
    "version": 3
   },
   "file_extension": ".py",
   "mimetype": "text/x-python",
   "name": "python",
   "nbconvert_exporter": "python",
   "pygments_lexer": "ipython3",
   "version": "3.6.5"
  }
 },
 "nbformat": 4,
 "nbformat_minor": 5
}
