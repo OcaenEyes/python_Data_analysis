{
 "cells": [
  {
   "cell_type": "code",
   "execution_count": 1,
   "id": "b6ebebee-d8d2-4ff5-a6d3-54791d7056eb",
   "metadata": {},
   "outputs": [
    {
     "name": "stderr",
     "output_type": "stream",
     "text": [
      "/Library/Frameworks/Python.framework/Versions/3.6/lib/python3.6/importlib/_bootstrap.py:219: RuntimeWarning: numpy.ufunc size changed, may indicate binary incompatibility. Expected 192 from C header, got 216 from PyObject\n",
      "  return f(*args, **kwds)\n"
     ]
    }
   ],
   "source": [
    "import pandas as pd\n",
    "import numpy as np\n",
    "from scipy import stats"
   ]
  },
  {
   "cell_type": "code",
   "execution_count": 2,
   "id": "39293fa9-3775-4317-8a99-4363c0d6b9d5",
   "metadata": {},
   "outputs": [],
   "source": [
    "data1 = [1,2,3]"
   ]
  },
  {
   "cell_type": "code",
   "execution_count": 3,
   "id": "e0452ab5-3e8f-4c86-954b-bd81e2386ec6",
   "metadata": {},
   "outputs": [
    {
     "data": {
      "text/plain": [
       "[1, 2, 3]"
      ]
     },
     "execution_count": 3,
     "metadata": {},
     "output_type": "execute_result"
    }
   ],
   "source": [
    "data1"
   ]
  },
  {
   "cell_type": "code",
   "execution_count": 4,
   "id": "893fb0b1-9899-400f-b1b4-56b1f615c290",
   "metadata": {},
   "outputs": [],
   "source": [
    "data2 = np.array([1,2,3])"
   ]
  },
  {
   "cell_type": "code",
   "execution_count": 5,
   "id": "05b1394a-5c60-4f44-97d0-44d6464b6cd1",
   "metadata": {},
   "outputs": [
    {
     "data": {
      "text/plain": [
       "array([1, 2, 3])"
      ]
     },
     "execution_count": 5,
     "metadata": {},
     "output_type": "execute_result"
    }
   ],
   "source": [
    "data2"
   ]
  },
  {
   "cell_type": "code",
   "execution_count": 6,
   "id": "e34d607f-c839-41c5-be7d-ee32de2f31a0",
   "metadata": {},
   "outputs": [],
   "source": [
    "data3 = pd.Series([1,2,3])"
   ]
  },
  {
   "cell_type": "code",
   "execution_count": 7,
   "id": "3c1587f3-1d4e-4ab9-8552-19a075e0f9d5",
   "metadata": {},
   "outputs": [
    {
     "data": {
      "text/plain": [
       "0    1\n",
       "1    2\n",
       "2    3\n",
       "dtype: int64"
      ]
     },
     "execution_count": 7,
     "metadata": {},
     "output_type": "execute_result"
    }
   ],
   "source": [
    "data3"
   ]
  },
  {
   "cell_type": "code",
   "execution_count": 8,
   "id": "110dd4f1-dde3-4c96-ad5d-6885f986654f",
   "metadata": {},
   "outputs": [],
   "source": [
    "# 创建一组服从正态分布的数值型数据\n",
    "data4 = np.random.normal(0,10,size=10)"
   ]
  },
  {
   "cell_type": "code",
   "execution_count": 9,
   "id": "a140343f-07de-4faa-8712-f0ea9e98a1ce",
   "metadata": {},
   "outputs": [
    {
     "data": {
      "text/plain": [
       "array([ -7.53498893,  -8.09693464,   5.53816972,  12.65597066,\n",
       "        -9.86159847,  -2.71543205,   1.28173701,   5.51255699,\n",
       "        10.60931081, -23.42217006])"
      ]
     },
     "execution_count": 9,
     "metadata": {},
     "output_type": "execute_result"
    }
   ],
   "source": [
    "data4"
   ]
  },
  {
   "cell_type": "code",
   "execution_count": 10,
   "id": "9b0cfd61-6963-48e7-b7b6-3eeefbfd40a1",
   "metadata": {},
   "outputs": [],
   "source": [
    "# 创建一组服从均匀分布的分类数据(用户数字代表类别)\n",
    "data5 = np.random.randint(0,10,size=10)"
   ]
  },
  {
   "cell_type": "code",
   "execution_count": 11,
   "id": "fe0f0d9c-c443-4d9a-b090-229bd1422884",
   "metadata": {},
   "outputs": [
    {
     "data": {
      "text/plain": [
       "array([9, 1, 6, 2, 9, 1, 9, 5, 6, 3])"
      ]
     },
     "execution_count": 11,
     "metadata": {},
     "output_type": "execute_result"
    }
   ],
   "source": [
    "data5"
   ]
  },
  {
   "cell_type": "markdown",
   "id": "d9a6cacd-b658-474e-8579-93ff3f7cdcb9",
   "metadata": {},
   "source": [
    "## 集中趋势"
   ]
  },
  {
   "cell_type": "markdown",
   "id": "e82a2039-99f0-4524-8bae-d7b6f50a4d22",
   "metadata": {},
   "source": [
    "#### 均值\n",
    "$$\\mu=\\frac{\\displaystyle\\sum\\limits_{i=1}^N{X_i}}{N}$$"
   ]
  },
  {
   "cell_type": "code",
   "execution_count": 12,
   "id": "1b7015f5-e189-4ad6-99f8-1263c838fff7",
   "metadata": {},
   "outputs": [],
   "source": [
    "def do_mean(nums):\n",
    "    return sum(nums) / len(nums)"
   ]
  },
  {
   "cell_type": "code",
   "execution_count": 13,
   "id": "937c358b-9383-48ff-96d0-34e71edf0626",
   "metadata": {},
   "outputs": [
    {
     "data": {
      "text/plain": [
       "2.0"
      ]
     },
     "execution_count": 13,
     "metadata": {},
     "output_type": "execute_result"
    }
   ],
   "source": [
    "do_mean(data1)"
   ]
  },
  {
   "cell_type": "code",
   "execution_count": 14,
   "id": "7b345e1d-d4c2-4e50-8c7c-f392a5fa3731",
   "metadata": {},
   "outputs": [
    {
     "data": {
      "text/plain": [
       "2.0"
      ]
     },
     "execution_count": 14,
     "metadata": {},
     "output_type": "execute_result"
    }
   ],
   "source": [
    "np.mean(data1)"
   ]
  },
  {
   "cell_type": "markdown",
   "id": "59c2ca70-6ba6-4a07-b500-4c741d731618",
   "metadata": {},
   "source": [
    "#### 中位数"
   ]
  },
  {
   "cell_type": "code",
   "execution_count": 19,
   "id": "442dbe5c-e619-4651-80dd-4f8c77c267ba",
   "metadata": {},
   "outputs": [],
   "source": [
    "def do_median(nums):\n",
    "    length = len(nums)\n",
    "    sorted_nums = sorted(nums)\n",
    "    \n",
    "    if length %2 :\n",
    "        return sorted_nums[length//2]\n",
    "    else:\n",
    "        return (sorted_nums[length//2 -1] +sorted_nums[length//2]) /2"
   ]
  },
  {
   "cell_type": "code",
   "execution_count": 20,
   "id": "9463d9c7-32ba-4fb7-800a-4649ad59b41a",
   "metadata": {},
   "outputs": [
    {
     "data": {
      "text/plain": [
       "5.5"
      ]
     },
     "execution_count": 20,
     "metadata": {},
     "output_type": "execute_result"
    }
   ],
   "source": [
    "do_median(data5)"
   ]
  },
  {
   "cell_type": "code",
   "execution_count": 21,
   "id": "219b6285-cbce-467e-b1e4-5dd4e9c1863f",
   "metadata": {},
   "outputs": [
    {
     "data": {
      "text/plain": [
       "5.5"
      ]
     },
     "execution_count": 21,
     "metadata": {},
     "output_type": "execute_result"
    }
   ],
   "source": [
    "np.median(data5)"
   ]
  },
  {
   "cell_type": "markdown",
   "id": "5ca457bf-fac7-4a56-bf23-f94e04cf959f",
   "metadata": {},
   "source": [
    "#### 众数"
   ]
  },
  {
   "cell_type": "code",
   "execution_count": 27,
   "id": "477c4885-6fc8-4455-9698-11135d9bbb55",
   "metadata": {},
   "outputs": [
    {
     "data": {
      "text/plain": [
       "array([9, 1, 6, 2, 9, 1, 9, 5, 6, 3])"
      ]
     },
     "execution_count": 27,
     "metadata": {},
     "output_type": "execute_result"
    }
   ],
   "source": [
    "data5"
   ]
  },
  {
   "cell_type": "code",
   "execution_count": 26,
   "id": "225903a1-0f28-44cd-b1b4-cb1ad11dd95c",
   "metadata": {},
   "outputs": [
    {
     "data": {
      "text/plain": [
       "array([0, 2, 1, 1, 0, 1, 2, 0, 0, 3])"
      ]
     },
     "execution_count": 26,
     "metadata": {},
     "output_type": "execute_result"
    }
   ],
   "source": [
    "np.bincount(data5)"
   ]
  },
  {
   "cell_type": "code",
   "execution_count": 31,
   "id": "547b49e4-686e-4907-b46f-3da302b3585a",
   "metadata": {},
   "outputs": [],
   "source": [
    "# # 我们可以看到x中最大的数为7，因此bin的数量为8，那么它的索引值为0->7\n",
    "# x = np.array([0, 1, 1, 3, 2, 1, 7]) \n",
    "\n",
    "# # 索引0出现了1次，索引1出现了3次......索引5出现了0次......\n",
    "# np.bincount(x)\n",
    "# #因此，输出结果为：array([1, 3, 1, 1, 0, 0, 0, 1])\n",
    "\n",
    "\n",
    "# # 我们可以看到x中最大的数为7，因此bin的数量为8，那么它的索引值为0->7\n",
    "# x = np.array([7, 6, 2, 1, 4])\n",
    "\n",
    "# # 索引0出现了0次，索引1出现了1次......索引5出现了0次......\n",
    "# np.bincount(x)\n",
    "# #输出结果为：array([0, 1, 1, 0, 1, 0, 1, 1])"
   ]
  },
  {
   "cell_type": "code",
   "execution_count": 32,
   "id": "30cec684-41ee-433c-a37c-cc8cfeb9e8ec",
   "metadata": {},
   "outputs": [
    {
     "name": "stdout",
     "output_type": "stream",
     "text": [
      "9\n"
     ]
    }
   ],
   "source": [
    "# 先获取每个索引位置值在原始数据中出现的位置\n",
    "counts = np.bincount(data5)\n",
    "\n",
    "# 返回频次最大值在数列中的索引位置\n",
    "mode_val = np.argmax(counts)\n",
    "\n",
    "# 返回众数\n",
    "print(mode_val)"
   ]
  },
  {
   "cell_type": "code",
   "execution_count": 35,
   "id": "eaa7f7f3-bee4-4e8d-93de-63c146f6dcb4",
   "metadata": {},
   "outputs": [
    {
     "data": {
      "text/plain": [
       "ModeResult(mode=array([9]), count=array([3]))"
      ]
     },
     "execution_count": 35,
     "metadata": {},
     "output_type": "execute_result"
    }
   ],
   "source": [
    "# 使用scipy实现\n",
    "stats.mode(data5)"
   ]
  },
  {
   "cell_type": "code",
   "execution_count": 36,
   "id": "a7b388fd-8b0b-47b3-9ea1-a8d0775582d6",
   "metadata": {},
   "outputs": [
    {
     "data": {
      "text/plain": [
       "9"
      ]
     },
     "execution_count": 36,
     "metadata": {},
     "output_type": "execute_result"
    }
   ],
   "source": [
    "stats.mode(data5)[0][0]"
   ]
  },
  {
   "cell_type": "markdown",
   "id": "d1e77a20-89e0-4e1c-a020-240aaf9472b9",
   "metadata": {},
   "source": [
    "### 离散程度"
   ]
  },
  {
   "cell_type": "markdown",
   "id": "a8ff80fe-3652-47a0-a4c1-66c6aa706b20",
   "metadata": {},
   "source": [
    "#### 极差\n",
    "$$R=\\max{(X)}-\\min{(X)}$$"
   ]
  },
  {
   "cell_type": "code",
   "execution_count": 37,
   "id": "a637f42f-8091-4a49-80a7-19b0b6a1b645",
   "metadata": {},
   "outputs": [],
   "source": [
    "def do_ptp(nums):\n",
    "    return max(nums) - min(nums)"
   ]
  },
  {
   "cell_type": "code",
   "execution_count": 38,
   "id": "57b7bdd2-fb40-4e65-86d4-f34a30ce1ae0",
   "metadata": {},
   "outputs": [
    {
     "data": {
      "text/plain": [
       "36.07814071393235"
      ]
     },
     "execution_count": 38,
     "metadata": {},
     "output_type": "execute_result"
    }
   ],
   "source": [
    "do_ptp(data4)"
   ]
  },
  {
   "cell_type": "code",
   "execution_count": 39,
   "id": "d5655e34-b9fe-4890-8f6d-57ac8fbfd32e",
   "metadata": {},
   "outputs": [
    {
     "data": {
      "text/plain": [
       "36.07814071393235"
      ]
     },
     "execution_count": 39,
     "metadata": {},
     "output_type": "execute_result"
    }
   ],
   "source": [
    "np.ptp(data4)"
   ]
  },
  {
   "cell_type": "markdown",
   "id": "f2f1db04-0db0-4867-8641-0a3f8009434f",
   "metadata": {},
   "source": [
    "#### 方差\n",
    "$$\\sigma^2=\\frac{\\displaystyle\\sum\\limits_{i=1}^N (X_i-\\mu)^2}{N}$$"
   ]
  },
  {
   "cell_type": "code",
   "execution_count": 45,
   "id": "fe1799fd-1b66-4e7b-8b69-25247383033e",
   "metadata": {},
   "outputs": [],
   "source": [
    "def do_var(nums):\n",
    "    nums_mean = do_mean(nums)\n",
    "    res =0\n",
    "    for num in nums:\n",
    "        res += (num - nums_mean) ** 2\n",
    "    res = res / len(nums)\n",
    "    return res"
   ]
  },
  {
   "cell_type": "code",
   "execution_count": 46,
   "id": "bc2ec9ba-0e38-45ae-8232-becc621ae46d",
   "metadata": {},
   "outputs": [
    {
     "data": {
      "text/plain": [
       "108.52857576976619"
      ]
     },
     "execution_count": 46,
     "metadata": {},
     "output_type": "execute_result"
    }
   ],
   "source": [
    "do_var(data4)"
   ]
  },
  {
   "cell_type": "code",
   "execution_count": 47,
   "id": "8084e22e-5bee-47c5-ba6e-1fd87319aca6",
   "metadata": {},
   "outputs": [
    {
     "data": {
      "text/plain": [
       "108.52857576976619"
      ]
     },
     "execution_count": 47,
     "metadata": {},
     "output_type": "execute_result"
    }
   ],
   "source": [
    "np.var(data4)"
   ]
  },
  {
   "cell_type": "markdown",
   "id": "af0e8025-2dd3-48f2-89da-18738bfdc6a6",
   "metadata": {},
   "source": [
    "#### 标准差\n",
    "$$\\sigma =\\sqrt{\\sigma^2}$$"
   ]
  },
  {
   "cell_type": "code",
   "execution_count": null,
   "id": "ff5a6021-ad91-4bac-9410-64ffd8b4604b",
   "metadata": {},
   "outputs": [],
   "source": []
  }
 ],
 "metadata": {
  "kernelspec": {
   "display_name": "pyenv3.6",
   "language": "python",
   "name": "pyenv3.6"
  },
  "language_info": {
   "codemirror_mode": {
    "name": "ipython",
    "version": 3
   },
   "file_extension": ".py",
   "mimetype": "text/x-python",
   "name": "python",
   "nbconvert_exporter": "python",
   "pygments_lexer": "ipython3",
   "version": "3.6.5"
  }
 },
 "nbformat": 4,
 "nbformat_minor": 5
}
