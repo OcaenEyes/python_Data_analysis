{
 "cells": [
  {
   "cell_type": "code",
   "execution_count": null,
   "id": "b6ebebee-d8d2-4ff5-a6d3-54791d7056eb",
   "metadata": {},
   "outputs": [],
   "source": []
  }
 ],
 "metadata": {
  "kernelspec": {
   "display_name": "pyenv3.6",
   "language": "python",
   "name": "pyenv3.6"
  },
  "language_info": {
   "codemirror_mode": {
    "name": "ipython",
    "version": 3
   },
   "file_extension": ".py",
   "mimetype": "text/x-python",
   "name": "python",
   "nbconvert_exporter": "python",
   "pygments_lexer": "ipython3",
   "version": "3.6.5"
  }
 },
 "nbformat": 4,
 "nbformat_minor": 5
}
